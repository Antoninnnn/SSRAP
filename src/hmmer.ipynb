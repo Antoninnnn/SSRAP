{
 "cells": [
  {
   "cell_type": "code",
   "execution_count": 1,
   "metadata": {},
   "outputs": [],
   "source": [
    "import numpy as np\n",
    "\n"
   ]
  },
  {
   "cell_type": "code",
   "execution_count": 2,
   "metadata": {},
   "outputs": [],
   "source": [
    "# Define a toy protein alphabet and states\n",
    "alphabet = \"ACDEFGHIKLMNPQRSTVWY\"  # 20 amino acids\n",
    "states = ['M', 'I']  # Match and Insert states\n",
    "\n",
    "# Define model parameters for our toy HMM:\n",
    "# Initial state probabilities (pi)\n",
    "pi = {\n",
    "    'M': 0.9,\n",
    "    'I': 0.1\n",
    "}\n",
    "\n",
    "# Transition probabilities: a[state_from][state_to]\n",
    "A = {\n",
    "    'M': {'M': 0.8, 'I': 0.2},\n",
    "    'I': {'M': 0.4, 'I': 0.6}\n",
    "}\n",
    "\n",
    "# Emission probabilities: e[state][symbol]\n",
    "# For simplicity, we assume each state emits a symbol from the alphabet.\n",
    "# In a real model, these would be estimated from a multiple sequence alignment.\n",
    "# Here we give arbitrary probabilities for demonstration.\n",
    "def random_emission_probs():\n",
    "    probs = np.random.rand(len(alphabet))\n",
    "    return dict(zip(alphabet, probs / probs.sum()))\n",
    "\n",
    "# For reproducibility, we can define fixed emission probabilities:\n",
    "E = {\n",
    "    'M': {aa: 1/len(alphabet) for aa in alphabet},  # uniform for match state\n",
    "    'I': {aa: 1/len(alphabet) for aa in alphabet}   # uniform for insert state\n",
    "}\n",
    "\n"
   ]
  },
  {
   "cell_type": "code",
   "execution_count": 8,
   "metadata": {},
   "outputs": [
    {
     "name": "stdout",
     "output_type": "stream",
     "text": [
      "states:  ['M', 'I']\n",
      "pi:  {'M': 0.9, 'I': 0.1}\n",
      "A:  {'M': {'M': 0.8, 'I': 0.2}, 'I': {'M': 0.4, 'I': 0.6}}\n",
      "E:  {'M': {'A': 0.05, 'C': 0.05, 'D': 0.05, 'E': 0.05, 'F': 0.05, 'G': 0.05, 'H': 0.05, 'I': 0.05, 'K': 0.05, 'L': 0.05, 'M': 0.05, 'N': 0.05, 'P': 0.05, 'Q': 0.05, 'R': 0.05, 'S': 0.05, 'T': 0.05, 'V': 0.05, 'W': 0.05, 'Y': 0.05}, 'I': {'A': 0.05, 'C': 0.05, 'D': 0.05, 'E': 0.05, 'F': 0.05, 'G': 0.05, 'H': 0.05, 'I': 0.05, 'K': 0.05, 'L': 0.05, 'M': 0.05, 'N': 0.05, 'P': 0.05, 'Q': 0.05, 'R': 0.05, 'S': 0.05, 'T': 0.05, 'V': 0.05, 'W': 0.05, 'Y': 0.05}}\n"
     ]
    }
   ],
   "source": [
    "print(\"states: \",states)\n",
    "\n",
    "print(\"pi: \",pi)\n",
    "\n",
    "print(\"A: \",A)\n",
    "\n",
    "print(\"E: \",E)"
   ]
  },
  {
   "cell_type": "code",
   "execution_count": 12,
   "metadata": {},
   "outputs": [],
   "source": [
    "# Example protein sequence (as a string)\n",
    "sequence = \"ACDGHIK\"\n",
    "\n",
    "# ---------------------------\n",
    "# Forward Algorithm\n",
    "# ---------------------------\n",
    "def forward_algorithm(seq, states, pi, A, E):\n",
    "    T = len(seq)\n",
    "    # Initialize alpha: a dictionary mapping state to probability at each position\n",
    "    alpha = [{} for _ in range(T)]\n",
    "    \n",
    "    # Initialization: position 0\n",
    "    for state in states:\n",
    "        alpha[0][state] = pi[state] * E[state][seq[0]]\n",
    "    \n",
    "    # Recursion: positions 1 to T-1\n",
    "    for t in range(1, T):\n",
    "        for j in states:\n",
    "            # sum over previous states\n",
    "            alpha[t][j] = sum(alpha[t-1][i] * A[i][j] for i in states) * E[j][seq[t]]\n",
    "    \n",
    "    # Termination: sum over final states\n",
    "    print(alpha)\n",
    "    likelihood = sum(alpha[T-1][state] for state in states)\n",
    "    return likelihood, alpha\n",
    "\n",
    "# ---------------------------\n",
    "# Viterbi Algorithm\n",
    "# ---------------------------\n",
    "def viterbi_algorithm(seq, states, pi, A, E):\n",
    "    T = len(seq)\n",
    "    # Initialize viterbi probability matrix and backpointer\n",
    "    V = [{} for _ in range(T)]\n",
    "    backpointer = [{} for _ in range(T)]\n",
    "    \n",
    "    # Initialization: position 0\n",
    "    for state in states:\n",
    "        V[0][state] = np.log(pi[state]) + np.log(E[state][seq[0]])\n",
    "        backpointer[0][state] = None\n",
    "    \n",
    "    # Recursion: positions 1 to T-1\n",
    "    for t in range(1, T):\n",
    "        for j in states:\n",
    "            max_prob, prev_st = max(\n",
    "                ((V[t-1][i] + np.log(A[i][j]), i) for i in states),\n",
    "                key=lambda x: x[0]\n",
    "            )\n",
    "            V[t][j] = max_prob + np.log(E[j][seq[t]])\n",
    "            backpointer[t][j] = prev_st\n",
    "    \n",
    "    # Termination: find the highest probability in the last column\n",
    "    last_state, max_log_prob = max(V[T-1].items(), key=lambda x: x[1])\n",
    "    \n",
    "    # Trace back the path\n",
    "    best_path = [last_state]\n",
    "    for t in range(T-1, 0, -1):\n",
    "        best_path.insert(0, backpointer[t][best_path[0]])\n",
    "    \n",
    "    return best_path, max_log_prob\n",
    "\n"
   ]
  },
  {
   "cell_type": "code",
   "execution_count": null,
   "metadata": {},
   "outputs": [],
   "source": []
  },
  {
   "cell_type": "code",
   "execution_count": 13,
   "metadata": {},
   "outputs": [
    {
     "name": "stdout",
     "output_type": "stream",
     "text": [
      "[{'M': 0.045000000000000005, 'I': 0.005000000000000001}, {'M': 0.0019000000000000004, 'I': 0.0006000000000000002}, {'M': 8.800000000000004e-05, 'I': 3.700000000000001e-05}, {'M': 4.260000000000002e-06, 'I': 1.990000000000001e-06}, {'M': 2.1020000000000012e-07, 'I': 1.0230000000000006e-07}, {'M': 1.0454000000000007e-08, 'I': 5.171000000000004e-09}, {'M': 5.215800000000005e-10, 'I': 2.596700000000002e-10}]\n",
      "Forward Algorithm:\n",
      "Sequence likelihood: 7.812500000000007e-10\n",
      "\n",
      "Viterbi Algorithm:\n",
      "Best state path: ['M', 'M', 'M', 'M', 'M', 'M', 'M']\n",
      "Log-probability of the path: -22.414347738421018\n"
     ]
    }
   ],
   "source": [
    "# ---------------------------\n",
    "# Run the Algorithms\n",
    "# ---------------------------\n",
    "likelihood, alpha = forward_algorithm(sequence, states, pi, A, E)\n",
    "print(\"Forward Algorithm:\")\n",
    "print(\"Sequence likelihood:\", likelihood)\n",
    "\n",
    "best_path, best_log_prob = viterbi_algorithm(sequence, states, pi, A, E)\n",
    "print(\"\\nViterbi Algorithm:\")\n",
    "print(\"Best state path:\", best_path)\n",
    "print(\"Log-probability of the path:\", best_log_prob)"
   ]
  },
  {
   "cell_type": "code",
   "execution_count": null,
   "metadata": {},
   "outputs": [],
   "source": []
  }
 ],
 "metadata": {
  "kernelspec": {
   "display_name": "prosst",
   "language": "python",
   "name": "python3"
  },
  "language_info": {
   "codemirror_mode": {
    "name": "ipython",
    "version": 3
   },
   "file_extension": ".py",
   "mimetype": "text/x-python",
   "name": "python",
   "nbconvert_exporter": "python",
   "pygments_lexer": "ipython3",
   "version": "3.9.21"
  }
 },
 "nbformat": 4,
 "nbformat_minor": 2
}
