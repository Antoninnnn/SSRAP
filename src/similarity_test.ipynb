{
 "cells": [
  {
   "cell_type": "markdown",
   "id": "6d4b5250",
   "metadata": {},
   "source": [
    "## Model"
   ]
  },
  {
   "cell_type": "code",
   "execution_count": 1,
   "id": "c6b4cfce",
   "metadata": {},
   "outputs": [
    {
     "name": "stderr",
     "output_type": "stream",
     "text": [
      "/opt/anaconda3/envs/VremNew/lib/python3.10/site-packages/tqdm/auto.py:21: TqdmWarning: IProgress not found. Please update jupyter and ipywidgets. See https://ipywidgets.readthedocs.io/en/stable/user_install.html\n",
      "  from .autonotebook import tqdm as notebook_tqdm\n"
     ]
    }
   ],
   "source": [
    "from mydpr.model.biencoder import MyEncoder\n",
    "import os \n",
    "import torch\n",
    "from esm.model.esm2 import ESM2\n",
    "\n",
    "# torch.serialization.add_safe_globals([ESM2])\n",
    "\n",
    "ckpt_path = \"cpu_model\"\n",
    "model = MyEncoder(bert_path=[os.path.join(ckpt_path, 'dhr_qencoder.pt'), \n",
    "                             os.path.join(ckpt_path, 'dhr_cencoder.pt')]).eval() "
   ]
  },
  {
   "cell_type": "markdown",
   "id": "fe27b388",
   "metadata": {},
   "source": [
    "## load data"
   ]
  },
  {
   "cell_type": "code",
   "execution_count": 25,
   "id": "a1529e9d",
   "metadata": {},
   "outputs": [],
   "source": [
    "from mydpr.dataset.proj_set import MutantDataset, read_seq_fasta\n",
    "from torch.utils.data import DataLoader\n",
    "\n",
    "q_seq_name = \"PITX2_HUMAN_Tsuboyama_2023_2L7M\" #  \"A0A1I9GEU1_NEIME_Kennouche_2019\"\n",
    "fasta_path = \"../data/proteingym_v1/aa_seq/\" + q_seq_name + \".fasta\"\n",
    "ds = MutantDataset(fasta_path)\n",
    "\n",
    "# data loader\n",
    "search_batch = 10\n",
    "bc = model.alphabet.get_batch_converter()\n",
    "\n",
    "dataloader = DataLoader(ds, batch_size=search_batch, collate_fn=bc, shuffle=False)"
   ]
  },
  {
   "cell_type": "code",
   "execution_count": null,
   "id": "44856f41",
   "metadata": {},
   "outputs": [],
   "source": [
    "ds.id[:21]"
   ]
  },
  {
   "cell_type": "markdown",
   "id": "e7a65b89",
   "metadata": {},
   "source": [
    "## Forward Right"
   ]
  },
  {
   "cell_type": "code",
   "execution_count": 37,
   "id": "a3b24bf2",
   "metadata": {},
   "outputs": [
    {
     "name": "stdout",
     "output_type": "stream",
     "text": [
      "mps\n"
     ]
    }
   ],
   "source": [
    "if torch.backends.mps.is_available():\n",
    "    device = torch.device(\"mps\")\n",
    "elif torch.cuda.is_available():\n",
    "    device = torch.device(\"cuda:0\")\n",
    "else:\n",
    "    device = torch.device(\"cpu\")\n",
    "\n",
    "print(device)"
   ]
  },
  {
   "cell_type": "code",
   "execution_count": 38,
   "id": "9d5fc782",
   "metadata": {},
   "outputs": [],
   "source": [
    "model = model.to(device)\n",
    "\n",
    "c_ebd = []\n",
    "ids = []\n",
    "for i, et in enumerate(dataloader):\n",
    "    id, seq, tk_seq = et\n",
    "    tk_seq = tk_seq.to(device)\n",
    "    # print(c)\n",
    "    with torch.no_grad():\n",
    "        c_ebd.append(model.forward_left(tk_seq))\n",
    "c_ebd = torch.cat(c_ebd, dim=0).cpu().numpy()\n",
    "# c_ebd = c_ebd.numpy()"
   ]
  },
  {
   "cell_type": "code",
   "execution_count": 39,
   "id": "b59a0355",
   "metadata": {},
   "outputs": [
    {
     "data": {
      "text/plain": [
       "(3220, 480)"
      ]
     },
     "execution_count": 39,
     "metadata": {},
     "output_type": "execute_result"
    }
   ],
   "source": [
    "c_ebd.shape"
   ]
  },
  {
   "cell_type": "markdown",
   "id": "2a72ec58",
   "metadata": {},
   "source": [
    "## Forward Left"
   ]
  },
  {
   "cell_type": "code",
   "execution_count": 40,
   "id": "51b091d3",
   "metadata": {},
   "outputs": [],
   "source": [
    "q_seq = read_seq_fasta(fasta_path)\n",
    "id, seq, tk_seq = bc([(\"0\",q_seq)])\n",
    "tk_seq = tk_seq.to(device)\n",
    "with torch.no_grad():\n",
    "    q_ebd = model.forward_left(tk_seq).cpu().numpy()\n",
    "# q_ebd= q_ebd.numpy()"
   ]
  },
  {
   "cell_type": "markdown",
   "id": "90a0175f",
   "metadata": {},
   "source": [
    "## Compute Similarity"
   ]
  },
  {
   "cell_type": "code",
   "execution_count": 41,
   "id": "9a764ed1",
   "metadata": {},
   "outputs": [
    {
     "name": "stdout",
     "output_type": "stream",
     "text": [
      "c_ebd shape: (3220, 480), q_ebd shape: (1, 480)\n",
      "(3220, 1)\n",
      "(161, 20)\n"
     ]
    }
   ],
   "source": [
    "import numpy as np\n",
    "# inner product\n",
    "print(f\"c_ebd shape: {c_ebd.shape}, q_ebd shape: {q_ebd.shape}\")\n",
    "scores = np.matmul(c_ebd, q_ebd.T)\n",
    "print(scores.shape)\n",
    "scores = scores.reshape(len(q_seq), 20)\n",
    "print(scores.shape)"
   ]
  },
  {
   "cell_type": "code",
   "execution_count": 42,
   "id": "22439143",
   "metadata": {},
   "outputs": [],
   "source": [
    "from scipy.special import softmax\n",
    "\n",
    "scores_softmax = softmax(scores, axis=1)  # softmax along each row\n"
   ]
  },
  {
   "cell_type": "code",
   "execution_count": 43,
   "id": "12c2f67b",
   "metadata": {},
   "outputs": [
    {
     "data": {
      "text/plain": [
       "array([ -1.8620992, -15.277882 ,  -5.2637143, -12.353044 ,  -9.491241 ,\n",
       "        -5.181298 ,  -2.2821393,  -3.923615 ,  -3.3583035,  -2.8574681,\n",
       "        -0.8908315, -12.789429 ,  -5.390778 , -12.345097 ,  -8.567971 ,\n",
       "        -4.6304936,  -2.7330632,  -3.3337026,  -3.2034764,  -2.9259763],\n",
       "      dtype=float32)"
      ]
     },
     "execution_count": 43,
     "metadata": {},
     "output_type": "execute_result"
    }
   ],
   "source": [
    "log_softmax_scores = np.log(scores_softmax)\n",
    "log_softmax_scores[0]"
   ]
  },
  {
   "cell_type": "code",
   "execution_count": 44,
   "id": "10ca55f1",
   "metadata": {},
   "outputs": [],
   "source": [
    "import pandas as pd\n",
    "\n",
    "DHR_result = pd.DataFrame( {\"mutant\": ds.id, \"DHR\":log_softmax_scores.flatten()} )"
   ]
  },
  {
   "cell_type": "markdown",
   "id": "eb033ec4",
   "metadata": {},
   "source": [
    "## Compare Spearman Score"
   ]
  },
  {
   "cell_type": "code",
   "execution_count": 45,
   "id": "8b4eb3ba",
   "metadata": {},
   "outputs": [],
   "source": [
    "# Load resultt of VREM\n",
    "vrem_result_path = \"../result/proteingym_v1/scores/\" + q_seq_name + \".csv\"\n",
    "vrem_result = pd.read_csv(vrem_result_path)"
   ]
  },
  {
   "cell_type": "markdown",
   "id": "e4482318",
   "metadata": {},
   "source": [
    "*** Combine with DHR (keep mutant in Vrem only)"
   ]
  },
  {
   "cell_type": "code",
   "execution_count": null,
   "id": "6a6ca102",
   "metadata": {},
   "outputs": [
    {
     "data": {
      "text/html": [
       "<div>\n",
       "<style scoped>\n",
       "    .dataframe tbody tr th:only-of-type {\n",
       "        vertical-align: middle;\n",
       "    }\n",
       "\n",
       "    .dataframe tbody tr th {\n",
       "        vertical-align: top;\n",
       "    }\n",
       "\n",
       "    .dataframe thead th {\n",
       "        text-align: right;\n",
       "    }\n",
       "</style>\n",
       "<table border=\"1\" class=\"dataframe\">\n",
       "  <thead>\n",
       "    <tr style=\"text-align: right;\">\n",
       "      <th></th>\n",
       "      <th>mutant</th>\n",
       "      <th>DMS_score</th>\n",
       "      <th>DMS_score_bin</th>\n",
       "      <th>VenusREM</th>\n",
       "      <th>DHR</th>\n",
       "    </tr>\n",
       "  </thead>\n",
       "  <tbody>\n",
       "    <tr>\n",
       "      <th>0</th>\n",
       "      <td>F1I</td>\n",
       "      <td>-3.598</td>\n",
       "      <td>0</td>\n",
       "      <td>-1.628706</td>\n",
       "      <td>-3.923615</td>\n",
       "    </tr>\n",
       "    <tr>\n",
       "      <th>1</th>\n",
       "      <td>F1L</td>\n",
       "      <td>-0.678</td>\n",
       "      <td>0</td>\n",
       "      <td>-1.571391</td>\n",
       "      <td>-2.857468</td>\n",
       "    </tr>\n",
       "    <tr>\n",
       "      <th>2</th>\n",
       "      <td>F1Y</td>\n",
       "      <td>-2.373</td>\n",
       "      <td>0</td>\n",
       "      <td>-2.125644</td>\n",
       "      <td>-2.925976</td>\n",
       "    </tr>\n",
       "    <tr>\n",
       "      <th>3</th>\n",
       "      <td>F1V</td>\n",
       "      <td>1.299</td>\n",
       "      <td>1</td>\n",
       "      <td>-1.738147</td>\n",
       "      <td>-3.333703</td>\n",
       "    </tr>\n",
       "    <tr>\n",
       "      <th>4</th>\n",
       "      <td>F1S</td>\n",
       "      <td>-0.127</td>\n",
       "      <td>0</td>\n",
       "      <td>-2.618656</td>\n",
       "      <td>-4.630494</td>\n",
       "    </tr>\n",
       "    <tr>\n",
       "      <th>...</th>\n",
       "      <td>...</td>\n",
       "      <td>...</td>\n",
       "      <td>...</td>\n",
       "      <td>...</td>\n",
       "      <td>...</td>\n",
       "    </tr>\n",
       "    <tr>\n",
       "      <th>917</th>\n",
       "      <td>S161R</td>\n",
       "      <td>-0.344</td>\n",
       "      <td>0</td>\n",
       "      <td>-0.929370</td>\n",
       "      <td>-11.151923</td>\n",
       "    </tr>\n",
       "    <tr>\n",
       "      <th>918</th>\n",
       "      <td>S161I</td>\n",
       "      <td>1.472</td>\n",
       "      <td>1</td>\n",
       "      <td>-0.818553</td>\n",
       "      <td>-4.766715</td>\n",
       "    </tr>\n",
       "    <tr>\n",
       "      <th>919</th>\n",
       "      <td>S161G</td>\n",
       "      <td>0.345</td>\n",
       "      <td>1</td>\n",
       "      <td>-0.707078</td>\n",
       "      <td>-3.895926</td>\n",
       "    </tr>\n",
       "    <tr>\n",
       "      <th>920</th>\n",
       "      <td>S161T</td>\n",
       "      <td>-1.969</td>\n",
       "      <td>0</td>\n",
       "      <td>-0.621227</td>\n",
       "      <td>-2.137374</td>\n",
       "    </tr>\n",
       "    <tr>\n",
       "      <th>921</th>\n",
       "      <td>S161C</td>\n",
       "      <td>-1.697</td>\n",
       "      <td>0</td>\n",
       "      <td>-1.200619</td>\n",
       "      <td>-17.288496</td>\n",
       "    </tr>\n",
       "  </tbody>\n",
       "</table>\n",
       "<p>922 rows × 5 columns</p>\n",
       "</div>"
      ],
      "text/plain": [
       "    mutant  DMS_score  DMS_score_bin  VenusREM        DHR\n",
       "0      F1I     -3.598              0 -1.628706  -3.923615\n",
       "1      F1L     -0.678              0 -1.571391  -2.857468\n",
       "2      F1Y     -2.373              0 -2.125644  -2.925976\n",
       "3      F1V      1.299              1 -1.738147  -3.333703\n",
       "4      F1S     -0.127              0 -2.618656  -4.630494\n",
       "..     ...        ...            ...       ...        ...\n",
       "917  S161R     -0.344              0 -0.929370 -11.151923\n",
       "918  S161I      1.472              1 -0.818553  -4.766715\n",
       "919  S161G      0.345              1 -0.707078  -3.895926\n",
       "920  S161T     -1.969              0 -0.621227  -2.137374\n",
       "921  S161C     -1.697              0 -1.200619 -17.288496\n",
       "\n",
       "[922 rows x 5 columns]"
      ]
     },
     "execution_count": 46,
     "metadata": {},
     "output_type": "execute_result"
    }
   ],
   "source": [
    "vrem_result = vrem_result.merge(DHR_result, how='inner', on='mutant')\n",
    "vrem_result"
   ]
  },
  {
   "cell_type": "code",
   "execution_count": 47,
   "id": "1ca366ba",
   "metadata": {},
   "outputs": [
    {
     "name": "stdout",
     "output_type": "stream",
     "text": [
      "sprearman VenusREM: 0.07046262864632001\n",
      "\n",
      "sprearman Dense-Homolog: -0.006671761335025767\n",
      "\n"
     ]
    }
   ],
   "source": [
    "from scipy.stats import spearmanr\n",
    "\n",
    "corr_VREM = spearmanr(vrem_result[\"DMS_score\"], vrem_result[\"VenusREM\"]).correlation\n",
    "corr_DHR = spearmanr(vrem_result[\"DMS_score\"], vrem_result[\"DHR\"]).correlation\n",
    "print(f\"sprearman VenusREM: {corr_VREM}\\n\")\n",
    "print(f\"sprearman Dense-Homolog: {corr_DHR}\\n\")"
   ]
  },
  {
   "cell_type": "code",
   "execution_count": 45,
   "id": "ff3195b2",
   "metadata": {},
   "outputs": [
    {
     "name": "stdout",
     "output_type": "stream",
     "text": [
      "[-2.947288  -2.9468417 -2.9482417 ... -2.9957418 -2.9957418 -2.995738 ]\n"
     ]
    }
   ],
   "source": [
    "seq = \"POLG_HCVJF_Qi_2014\"\n",
    "sf = \"similarity/\" + seq + \"_logits.pt\"\n",
    "sim = torch.load(sf)\n",
    "sim = sim.numpy().flatten()\n",
    "print(sim)"
   ]
  },
  {
   "cell_type": "markdown",
   "id": "5ed564b1",
   "metadata": {},
   "source": [
    "## All aa"
   ]
  },
  {
   "cell_type": "code",
   "execution_count": 25,
   "id": "c4e3575f",
   "metadata": {},
   "outputs": [
    {
     "name": "stdout",
     "output_type": "stream",
     "text": [
      "Using device: mps\n",
      "Analyzing A0A140D2T1_ZIKV_Sourisseau_2019 (0/217)...\n",
      "Too long (3423), pass\n",
      "Analyzing A0A192B1T2_9HIV1_Haddox_2018 (1/217)...\n",
      "Too long (852), pass\n",
      "Analyzing A0A1I9GEU1_NEIME_Kennouche_2019 (2/217)...\n",
      "-sprearman VenusREM: 0.07046262864632001\n",
      "-sprearman Dense-Homolog: -0.006671761335025767\n",
      "Analyzing A0A247D711_LISMN_Stadelmann_2021 (3/217)...\n",
      "-sprearman VenusREM: 0.5562672956090964\n",
      "-sprearman Dense-Homolog: -0.021856542440134887\n",
      "Analyzing A0A2Z5U3Z0_9INFA_Doud_2016 (4/217)...\n",
      "Too long (565), pass\n",
      "Analyzing A0A2Z5U3Z0_9INFA_Wu_2014 (5/217)...\n",
      "Too long (565), pass\n",
      "Analyzing A4D664_9INFA_Soh_2019 (6/217)...\n",
      "Too long (759), pass\n",
      "Analyzing A4GRB6_PSEAI_Chen_2020 (7/217)...\n",
      "-sprearman VenusREM: 0.6602411540275858\n",
      "-sprearman Dense-Homolog: -0.028160453286295392\n",
      "Analyzing A4_HUMAN_Seuma_2022 (8/217)...\n",
      "Too long (770), pass\n",
      "Analyzing AACC1_PSEAI_Dandage_2018 (9/217)...\n",
      "-sprearman VenusREM: 0.3598868174933268\n",
      "-sprearman Dense-Homolog: -0.039006311102603164\n"
     ]
    }
   ],
   "source": [
    "import numpy as np\n",
    "import os \n",
    "import torch\n",
    "import pandas as pd\n",
    "from mydpr.model.biencoder import MyEncoder\n",
    "from esm.model.esm2 import ESM2\n",
    "from mydpr.dataset.proj_set import MutantDataset, read_seq_fasta\n",
    "from torch.utils.data import DataLoader\n",
    "from scipy.special import softmax\n",
    "from scipy.stats import spearmanr\n",
    "from similarity_func import DHR_compare\n",
    "\n",
    "# Load all sequences\n",
    "directory_path = \"../data/proteingym_v1/aa_seq\"  # Replace with your folder path\n",
    "seq_list = os.listdir(directory_path)\n",
    "seq_list = [os.path.splitext(f)[0] for f in seq_list]\n",
    "seq_list.sort()\n",
    "\n",
    "# Model\n",
    "ckpt_path = \"cpu_model\"\n",
    "model = MyEncoder(bert_path=[os.path.join(ckpt_path, 'dhr_qencoder.pt'),\n",
    "                                os.path.join(ckpt_path, 'dhr_cencoder.pt')]).eval() \n",
    "search_batch = 10\n",
    "bc = model.alphabet.get_batch_converter()\n",
    "\n",
    "\n",
    "VREMs = []\n",
    "DHRs = []\n",
    "\n",
    "if torch.backends.mps.is_available():\n",
    "    device = torch.device(\"mps\")\n",
    "elif torch.cuda.is_available():\n",
    "    device = torch.device(\"cuda:0\")\n",
    "else:\n",
    "    device = torch.device(\"cpu\")\n",
    "print(f\"Using device: {device}\")\n",
    "\n",
    "for i, q_seq_name in enumerate(seq_list[:10]):\n",
    "    print(f\"Analyzing {q_seq_name} ({i}/{len(seq_list)})...\")\n",
    "\n",
    "    fasta_path = \"../data/proteingym_v1/aa_seq/\" + q_seq_name + \".fasta\"\n",
    "    # Read query seq\n",
    "    q_seq = read_seq_fasta(fasta_path)\n",
    "    if (len(q_seq)>500):\n",
    "        print(f\"Too long ({len(q_seq)}), pass\")\n",
    "        continue\n",
    "\n",
    "    # Query Sequences set\n",
    "    ds = MutantDataset(fasta_path)\n",
    "    dataloader = DataLoader(ds, batch_size=search_batch, collate_fn=bc, shuffle=False)\n",
    "\n",
    "    # Vrem result\n",
    "    vrem_result_path = \"../result/proteingym_v1/scores/\" + q_seq_name + \".csv\"\n",
    "    vrem_result = pd.read_csv(vrem_result_path)\n",
    "\n",
    "    corr_VREM, corr_DHR = DHR_compare(model, ds=ds, query_seq=q_seq, vrem_result=vrem_result, device=device)\n",
    "    VREMs.append(corr_VREM)\n",
    "    DHRs.append(corr_DHR)\n",
    "    print(f\"-sprearman VenusREM: {corr_VREM}\")\n",
    "    print(f\"-sprearman Dense-Homolog: {corr_DHR}\")"
   ]
  },
  {
   "cell_type": "markdown",
   "id": "d7dbae05",
   "metadata": {},
   "source": [
    "## Use calculated result"
   ]
  },
  {
   "cell_type": "code",
   "execution_count": null,
   "id": "c2f95500",
   "metadata": {},
   "outputs": [],
   "source": [
    "import pandas as pd\n",
    "from scipy.stats import spearmanr\n",
    "import numpy as np\n",
    "\n",
    "directory_path = \"../data/proteingym_v1/aa_seq\"  # Replace with your folder path\n",
    "seq_list = os.listdir(directory_path)\n",
    "seq_list = [os.path.splitext(f)[0] for f in seq_list]\n",
    "seq_list.sort()\n",
    "\n",
    "sum_Vrem = []\n",
    "sum_DHR = []\n",
    "lengths = []\n",
    "\n",
    "for seq in seq_list:\n",
    "    fasta_path = \"../data/proteingym_v1/aa_seq/\" + seq + \".fasta\"\n",
    "    ds = MutantDataset(fasta_path)\n",
    "\n",
    "    sf = \"similarity/\" + seq + \"_logits.pt\"\n",
    "    sim = torch.load(sf)\n",
    "    sim = sim.numpy().flatten()\n",
    "\n",
    "    vrem_result_path = \"../result/proteingym_v1/scores/\" + seq + \".csv\"\n",
    "    vrem_result = pd.read_csv(vrem_result_path)\n",
    "\n",
    "    DHR_result = pd.DataFrame( {\"mutant\": ds.id, \"DHR\":sim} )\n",
    "\n",
    "    vrem_result = vrem_result.merge(DHR_result, how='inner', on='mutant')\n",
    "    corr_VREM = spearmanr(vrem_result[\"DMS_score\"], vrem_result[\"VenusREM\"]).correlation\n",
    "    corr_DHR = spearmanr(vrem_result[\"DMS_score\"], vrem_result[\"DHR\"]).correlation\n",
    "\n",
    "    if not np.isnan(corr_DHR):\n",
    "        sum_Vrem.append(corr_VREM)\n",
    "        sum_DHR.append(corr_DHR)\n",
    "        lengths.append(len(ds.seq[0]))\n",
    "    # else:\n",
    "    #     print(seq)\n",
    "    #     print(DHR_result)\n",
    "    #     print(vrem_result)\n",
    "    #     break\n",
    "\n",
    "    print(seq)\n",
    "    print(f\"len: {len(ds.seq[0])}\")\n",
    "    print(f\"sprearman VenusREM: {corr_VREM}\")\n",
    "    print(f\"sprearman Dense-Homolog: {corr_DHR}\\n===\")\n",
    "\n",
    "print(f\"avg spearman VREM: {sum(sum_Vrem)/len(sum_Vrem)}\")\n",
    "print(f\"avg spearman DHR: {sum(sum_DHR)/len(sum_DHR)}\")"
   ]
  },
  {
   "cell_type": "code",
   "execution_count": 80,
   "id": "ea6f4811",
   "metadata": {},
   "outputs": [
    {
     "data": {
      "image/png": "[encoded data removed]",
      "text/plain": [
       "<Figure size 1200x600 with 2 Axes>"
      ]
     },
     "metadata": {},
     "output_type": "display_data"
    }
   ],
   "source": [
    "import matplotlib.pyplot as plt\n",
    "\n",
    "fig, axes = plt.subplots(1, 2, figsize=(12, 6))\n",
    "\n",
    "axes[0].scatter(lengths, sum_Vrem, s=10)\n",
    "axes[0].set_xlabel(\"Sequence Length\")\n",
    "axes[0].set_ylabel(\"Spearman Correlation with DHR\")\n",
    "axes[0].set_title(f\"VenusREM Correlation vs Sequence Length\\n Average value: {sum(sum_Vrem)/len(sum_Vrem):.3f}\")\n",
    "axes[0].grid(True)\n",
    "\n",
    "axes[1].scatter(lengths, sum_DHR, s=10)\n",
    "axes[1].set_xlabel(\"Sequence Length\")\n",
    "axes[1].set_title(f\"DHR Correlation vs Sequence Length\\n Average value: {sum(sum_DHR)/len(sum_DHR):.3f}\")\n",
    "axes[1].grid(True)\n",
    "\n",
    "plt.tight_layout()\n",
    "plt.show()"
   ]
  }
 ],
 "metadata": {
  "kernelspec": {
   "display_name": "VremNew",
   "language": "python",
   "name": "python3"
  },
  "language_info": {
   "codemirror_mode": {
    "name": "ipython",
    "version": 3
   },
   "file_extension": ".py",
   "mimetype": "text/x-python",
   "name": "python",
   "nbconvert_exporter": "python",
   "pygments_lexer": "ipython3",
   "version": "3.10.13"
  }
 },
 "nbformat": 4,
 "nbformat_minor": 5
}
