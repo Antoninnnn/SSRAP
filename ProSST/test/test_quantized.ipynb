{
 "cells": [
  {
   "cell_type": "code",
   "execution_count": 3,
   "metadata": {},
   "outputs": [],
   "source": [
    "import sys\n",
    "sys.path.append('..')\n",
    "from prosst.structure.quantizer import PdbQuantizer\n"
   ]
  },
  {
   "cell_type": "code",
   "execution_count": 5,
   "metadata": {},
   "outputs": [
    {
     "name": "stderr",
     "output_type": "stream",
     "text": [
      "Processing PDB files: 100%|██████████| 1/1 [00:00<00:00,  1.33it/s]\n"
     ]
    },
    {
     "name": "stdout",
     "output_type": "stream",
     "text": [
      "{'2048': {'p1.pdb': {'seq': 'GNIFIKNLHPDIDNKALYDTFSVFGDILSSKIATDENGKSKGFGFVHFEEEGAAKEAIDALNGMLLNGQEIYVAP', 'struct': [1686, 771, 771, 1866, 771, 1877, 1890, 1975, 1523, 1523, 1468, 796, 1523, 786, 55, 661, 1468, 1468, 661, 661, 932, 1468, 1712, 932, 796, 796, 1975, 23, 1525, 42, 1890, 1890, 23, 213, 42, 1074, 1074, 42, 1468, 1652, 1671, 1890, 1890, 1525, 1926, 23, 1985, 1034, 23, 1975, 796, 932, 55, 1034, 460, 661, 1468, 1666, 972, 932, 1523, 1523, 796, 23, 1671, 1468, 1523, 1671, 1523, 23, 1671, 1985, 1525, 338, 1276]}}}\n"
     ]
    }
   ],
   "source": [
    "processor = PdbQuantizer()\n",
    "result = processor(\"../example_data/p1.pdb\", return_residue_seq=True)\n",
    "print(result)"
   ]
  },
  {
   "cell_type": "code",
   "execution_count": 7,
   "metadata": {},
   "outputs": [
    {
     "data": {
      "text/plain": [
       "75"
      ]
     },
     "execution_count": 7,
     "metadata": {},
     "output_type": "execute_result"
    }
   ],
   "source": [
    "len(result['2048']['p1.pdb']['seq'])"
   ]
  }
 ],
 "metadata": {
  "kernelspec": {
   "display_name": "prosst",
   "language": "python",
   "name": "python3"
  },
  "language_info": {
   "codemirror_mode": {
    "name": "ipython",
    "version": 3
   },
   "file_extension": ".py",
   "mimetype": "text/x-python",
   "name": "python",
   "nbconvert_exporter": "python",
   "pygments_lexer": "ipython3",
   "version": "3.9.21"
  }
 },
 "nbformat": 4,
 "nbformat_minor": 2
}
